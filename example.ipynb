{
 "cells": [
  {
   "cell_type": "code",
   "execution_count": null,
   "id": "61891e07-a671-498f-ab9e-58d0a115b6a4",
   "metadata": {},
   "outputs": [],
   "source": [
    "import numpy as np\n",
    "from fbpic_to_vtk import fbpicToVTK"
   ]
  },
  {
   "cell_type": "code",
   "execution_count": null,
   "id": "d5e8bd14-d025-4c40-b9cb-3c292e0f04c4",
   "metadata": {},
   "outputs": [],
   "source": [
    "timestep        = 40000\n",
    "source_filename = f'data{timestep:08d}.h5'\n",
    "output_filename = 'fbpic_data_git_main.vtu'\n",
    "\n",
    "### Settings for the diagnostics to be exported ###\n",
    "\n",
    "# Thes names should match the names of the field diagnostics in your fbpic input deck / hdf5 source file\n",
    "# Adjust as necessary based on your simulation\n",
    "scalar_diag_names = ('rho_electron', 'rho_inner', 'rho_ion')\n",
    "vector_diag_names = ('E',)\n",
    "\n",
    "### Settinsgs for the grids ###\n",
    "\n",
    "# number of points in the theta direction of the azimuthal grid grid\n",
    "Ntheta = 32\n",
    "\n",
    "# Downsampling of coordinate axes for r and z\n",
    "downsample_r = slice(None, -2, 2)\n",
    "downsample_z = slice(None, None, 5)"
   ]
  },
  {
   "cell_type": "code",
   "execution_count": null,
   "id": "55f5ee6e",
   "metadata": {},
   "outputs": [],
   "source": [
    "fbpicToVTK( source_filename,\n",
    "            timestep,\n",
    "            scalar_diag_names,\n",
    "            vector_diag_names,\n",
    "            downsample_r = downsample_r,\n",
    "            downsample_z = downsample_z,\n",
    "            Ntheta = Ntheta,\n",
    "            output_filename = output_filename\n",
    "            )"
   ]
  }
 ],
 "metadata": {
  "kernelspec": {
   "display_name": "fbpic_to_vtk",
   "language": "python",
   "name": "fbpic_to_vtk"
  },
  "language_info": {
   "codemirror_mode": {
    "name": "ipython",
    "version": 3
   },
   "file_extension": ".py",
   "mimetype": "text/x-python",
   "name": "python",
   "nbconvert_exporter": "python",
   "pygments_lexer": "ipython3",
   "version": "3.13.5"
  }
 },
 "nbformat": 4,
 "nbformat_minor": 5
}
